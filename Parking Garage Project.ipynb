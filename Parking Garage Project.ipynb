{
 "cells": [
  {
   "cell_type": "markdown",
   "metadata": {},
   "source": [
    "# Parking Garage Project\n",
    "\n",
    "Your assignment for today is to create a parking garage class to get more familiar with Object Oriented Programming(OOP). \n",
    "\n",
    "Your parking gargage class should have the following methods:\n",
    "- takeTicket\n",
    "   - This should decrease the amount of tickets available by 1\n",
    "   - This should decrease the amount of parkingSpaces available by 1\n",
    "- payForParking\n",
    "   - Display an input that waits for an amount from the user and store it in a variable\n",
    "   - If the payment variable is not empty then ->  display a message to the user that their ticket has been paid and they have 15mins to leave\n",
    "   - This should update the \"currentTicket\" dictionary key \"paid\" to True\n",
    "-leaveGarage\n",
    "   - If the ticket has been paid, display a message of \"Thank You, have a nice day\"\n",
    "   - If the ticket has not been paid, display an input prompt for payment\n",
    "      - Once paid, display message \"Thank you, have a nice day!\"\n",
    "   - Update parkingSpaces list to increase by 1\n",
    "   - Update tickets list to increase by 1\n",
    "\n",
    "You will need a few attributes as well:\n",
    "- tickets -> list\n",
    "- parkingSpaces -> list\n",
    "- currentTicket -> dictionary"
   ]
  },
  {
   "cell_type": "code",
   "execution_count": 11,
   "metadata": {},
   "outputs": [
    {
     "name": "stdout",
     "output_type": "stream",
     "text": [
      "[2, 3, 4, 5]\n",
      "[2, 3, 4, 5]\n",
      "{1: ''}\n"
     ]
    },
    {
     "name": "stdout",
     "output_type": "stream",
     "text": [
      "Pay Ticket!!\n"
     ]
    },
    {
     "ename": "ValueError",
     "evalue": "invalid literal for int() with base 10: '1,2 '",
     "output_type": "error",
     "traceback": [
      "\u001b[1;31m---------------------------------------------------------------------------\u001b[0m",
      "\u001b[1;31mValueError\u001b[0m                                Traceback (most recent call last)",
      "\u001b[1;32mc:\\Users\\D03da\\Desktop\\Intro_to_Coding\\Python Basics\\Object Oriented Parking\\Parking Garage Project.ipynb Cell 2\u001b[0m line \u001b[0;36m4\n\u001b[0;32m     <a href='vscode-notebook-cell:/c%3A/Users/D03da/Desktop/Intro_to_Coding/Python%20Basics/Object%20Oriented%20Parking/Parking%20Garage%20Project.ipynb#W1sZmlsZQ%3D%3D?line=41'>42</a>\u001b[0m         \u001b[39mif\u001b[39;00m response\u001b[39m.\u001b[39mlower() \u001b[39m==\u001b[39m \u001b[39m'\u001b[39m\u001b[39mleave\u001b[39m\u001b[39m'\u001b[39m:\n\u001b[0;32m     <a href='vscode-notebook-cell:/c%3A/Users/D03da/Desktop/Intro_to_Coding/Python%20Basics/Object%20Oriented%20Parking/Parking%20Garage%20Project.ipynb#W1sZmlsZQ%3D%3D?line=42'>43</a>\u001b[0m             parkingGarage\u001b[39m.\u001b[39mleaveGarage()\n\u001b[1;32m---> <a href='vscode-notebook-cell:/c%3A/Users/D03da/Desktop/Intro_to_Coding/Python%20Basics/Object%20Oriented%20Parking/Parking%20Garage%20Project.ipynb#W1sZmlsZQ%3D%3D?line=43'>44</a>\u001b[0m run()\n",
      "\u001b[1;32mc:\\Users\\D03da\\Desktop\\Intro_to_Coding\\Python Basics\\Object Oriented Parking\\Parking Garage Project.ipynb Cell 2\u001b[0m line \u001b[0;36m4\n\u001b[0;32m     <a href='vscode-notebook-cell:/c%3A/Users/D03da/Desktop/Intro_to_Coding/Python%20Basics/Object%20Oriented%20Parking/Parking%20Garage%20Project.ipynb#W1sZmlsZQ%3D%3D?line=38'>39</a>\u001b[0m     parkingGarage\u001b[39m.\u001b[39mtakeTicket()\n\u001b[0;32m     <a href='vscode-notebook-cell:/c%3A/Users/D03da/Desktop/Intro_to_Coding/Python%20Basics/Object%20Oriented%20Parking/Parking%20Garage%20Project.ipynb#W1sZmlsZQ%3D%3D?line=39'>40</a>\u001b[0m \u001b[39mif\u001b[39;00m response\u001b[39m.\u001b[39mlower() \u001b[39m==\u001b[39m \u001b[39m'\u001b[39m\u001b[39mpay\u001b[39m\u001b[39m'\u001b[39m:            \n\u001b[1;32m---> <a href='vscode-notebook-cell:/c%3A/Users/D03da/Desktop/Intro_to_Coding/Python%20Basics/Object%20Oriented%20Parking/Parking%20Garage%20Project.ipynb#W1sZmlsZQ%3D%3D?line=40'>41</a>\u001b[0m     parkingGarage\u001b[39m.\u001b[39;49mpayForParking()\n\u001b[0;32m     <a href='vscode-notebook-cell:/c%3A/Users/D03da/Desktop/Intro_to_Coding/Python%20Basics/Object%20Oriented%20Parking/Parking%20Garage%20Project.ipynb#W1sZmlsZQ%3D%3D?line=41'>42</a>\u001b[0m \u001b[39mif\u001b[39;00m response\u001b[39m.\u001b[39mlower() \u001b[39m==\u001b[39m \u001b[39m'\u001b[39m\u001b[39mleave\u001b[39m\u001b[39m'\u001b[39m:\n\u001b[0;32m     <a href='vscode-notebook-cell:/c%3A/Users/D03da/Desktop/Intro_to_Coding/Python%20Basics/Object%20Oriented%20Parking/Parking%20Garage%20Project.ipynb#W1sZmlsZQ%3D%3D?line=42'>43</a>\u001b[0m     parkingGarage\u001b[39m.\u001b[39mleaveGarage()\n",
      "\u001b[1;32mc:\\Users\\D03da\\Desktop\\Intro_to_Coding\\Python Basics\\Object Oriented Parking\\Parking Garage Project.ipynb Cell 2\u001b[0m line \u001b[0;36m1\n\u001b[0;32m     <a href='vscode-notebook-cell:/c%3A/Users/D03da/Desktop/Intro_to_Coding/Python%20Basics/Object%20Oriented%20Parking/Parking%20Garage%20Project.ipynb#W1sZmlsZQ%3D%3D?line=16'>17</a>\u001b[0m \u001b[39mdef\u001b[39;00m \u001b[39mpayForParking\u001b[39m(\u001b[39mself\u001b[39m):\n\u001b[1;32m---> <a href='vscode-notebook-cell:/c%3A/Users/D03da/Desktop/Intro_to_Coding/Python%20Basics/Object%20Oriented%20Parking/Parking%20Garage%20Project.ipynb#W1sZmlsZQ%3D%3D?line=17'>18</a>\u001b[0m     paid \u001b[39m=\u001b[39m \u001b[39mint\u001b[39;49m(\u001b[39minput\u001b[39;49m(\u001b[39m\"\u001b[39;49m\u001b[39mWhat\u001b[39;49m\u001b[39m'\u001b[39;49m\u001b[39ms your ticket number?  \u001b[39;49m\u001b[39m\"\u001b[39;49m))\n\u001b[0;32m     <a href='vscode-notebook-cell:/c%3A/Users/D03da/Desktop/Intro_to_Coding/Python%20Basics/Object%20Oriented%20Parking/Parking%20Garage%20Project.ipynb#W1sZmlsZQ%3D%3D?line=18'>19</a>\u001b[0m     \u001b[39mself\u001b[39m\u001b[39m.\u001b[39mcurrentTicket[paid] \u001b[39m=\u001b[39m \u001b[39m'\u001b[39m\u001b[39mpaid\u001b[39m\u001b[39m'\u001b[39m \n\u001b[0;32m     <a href='vscode-notebook-cell:/c%3A/Users/D03da/Desktop/Intro_to_Coding/Python%20Basics/Object%20Oriented%20Parking/Parking%20Garage%20Project.ipynb#W1sZmlsZQ%3D%3D?line=19'>20</a>\u001b[0m     \u001b[39mprint\u001b[39m(\u001b[39m'\u001b[39m\u001b[39mYour ticket has been paid and you have 15 mins to leave!\u001b[39m\u001b[39m'\u001b[39m)\n",
      "\u001b[1;31mValueError\u001b[0m: invalid literal for int() with base 10: '1,2 '"
     ]
    }
   ],
   "source": [
    "# Your Code will go here\n",
    "class Garage():\n",
    "\n",
    "    def __init__(self,tickets,parkingSpaces,currentTicket):\n",
    "        self.tickets = tickets\n",
    "        self.parkingSpaces = parkingSpaces\n",
    "        self.currentTicket = currentTicket   \n",
    "        \n",
    "    def takeTicket(self):\n",
    "        self.currentTicket[self.tickets[0]] = ''\n",
    "        del self.tickets[0]\n",
    "        del self.parkingSpaces[0]\n",
    "        print(self.parkingSpaces)\n",
    "        print(self.tickets)\n",
    "        print(self.currentTicket)\n",
    "        \n",
    "    def payForParking(self):\n",
    "        paid = int(input(\"What's your ticket number?  \"))\n",
    "        self.currentTicket[paid] = 'paid' \n",
    "        print('Your ticket has been paid and you have 15 mins to leave!')\n",
    "        print(self.currentTicket)\n",
    "        \n",
    "    def leaveGarage(self):\n",
    "        answer = int(input(\"What's your ticket number?  \"))\n",
    "        if self.currentTicket[answer] != 'paid':\n",
    "            print('Pay Ticket!!')\n",
    "        elif self.currentTicket[answer] == 'paid':\n",
    "            print('Thank you, have a nice day!')\n",
    "        del self.currentTicket[answer]\n",
    "        self.tickets.append(answer)\n",
    "        self.parkingSpaces.append(answer)\n",
    "            \n",
    "parkingGarage = Garage([1,2,3,4,5],[1,2,3,4,5],{})      \n",
    "def run():\n",
    "    while True:\n",
    "        response = input('What do you want to do take/pay ticket or leave?')\n",
    "        \n",
    "        if response.lower() == 'take':\n",
    "            parkingGarage.takeTicket()\n",
    "        if response.lower() == 'pay':            \n",
    "            parkingGarage.payForParking()\n",
    "        if response.lower() == 'leave':\n",
    "            parkingGarage.leaveGarage()\n",
    "run()\n"
   ]
  }
 ],
 "metadata": {
  "kernelspec": {
   "display_name": "Python 3",
   "language": "python",
   "name": "python3"
  },
  "language_info": {
   "codemirror_mode": {
    "name": "ipython",
    "version": 3
   },
   "file_extension": ".py",
   "mimetype": "text/x-python",
   "name": "python",
   "nbconvert_exporter": "python",
   "pygments_lexer": "ipython3",
   "version": "3.11.4"
  }
 },
 "nbformat": 4,
 "nbformat_minor": 2
}
